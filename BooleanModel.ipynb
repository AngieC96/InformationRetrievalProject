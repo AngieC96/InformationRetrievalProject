{
  "nbformat": 4,
  "nbformat_minor": 0,
  "metadata": {
    "kernelspec": {
      "display_name": "Python 3",
      "language": "python",
      "name": "python3"
    },
    "language_info": {
      "codemirror_mode": {
        "name": "ipython",
        "version": 3
      },
      "file_extension": ".py",
      "mimetype": "text/x-python",
      "name": "python",
      "nbconvert_exporter": "python",
      "pygments_lexer": "ipython3",
      "version": "3.6.9"
    },
    "colab": {
      "name": "BooleanModel.ipynb",
      "provenance": [],
      "collapsed_sections": [
        "iKBPgxS2xGi_",
        "FyQ757d1xGjD",
        "j2CDYrbSxGjh",
        "X3LFUWhbxGjj",
        "TCTOmEL6xGj2",
        "y41lObHswkdp"
      ],
      "toc_visible": true
    }
  },
  "cells": [
    {
      "cell_type": "markdown",
      "metadata": {
        "id": "2UC3PFRExGi5"
      },
      "source": [
        "# A Boolean Retrieval System"
      ]
    },
    {
      "cell_type": "code",
      "metadata": {
        "id": "HGEqloc9xGi9"
      },
      "source": [
        "from functools import total_ordering, reduce  # not essential but reduces the code we have to write\n",
        "import csv     # for csv files\n",
        "import re      # for regular expressions\n",
        "import pickle  # to save the index\n",
        "import time\n",
        "import os.path\n",
        "import copy"
      ],
      "execution_count": 1,
      "outputs": []
    },
    {
      "cell_type": "markdown",
      "metadata": {
        "id": "iKBPgxS2xGi_"
      },
      "source": [
        "## Postings\n",
        "\n",
        "A `Posting` object is simply the docID of a document. It has a method `get_from_corpus` that given the corpus retrieves the document corresponding to that docID. Then it has some comparison methods to check if two docID are equal, one greater than the other, etc."
      ]
    },
    {
      "cell_type": "code",
      "metadata": {
        "id": "9ECFCVZdxGjA"
      },
      "source": [
        "@total_ordering   # takes a class where we have defined at least the methods `eq` and `gt`/`lt` and defines in a consistent way all the other methods (otherwise we should implement them all by hand)\n",
        "class Posting:\n",
        "    \n",
        "    def __init__(self, docID):\n",
        "        \"\"\" Class constructor.\n",
        "        \"\"\"\n",
        "        self._docID = docID\n",
        "        \n",
        "    def get_from_corpus(self, corpus):  # return from the corpus the doc corresponding to that docID. In the list you only save the docID, not the all document\n",
        "        \"\"\" Returns the document corresponding to that docID from the corpus.\n",
        "        \"\"\"\n",
        "        return corpus[self._docID]\n",
        "    \n",
        "    def __eq__(self, other: 'Posting'):  # euqality comparator\n",
        "        \"\"\" Performs the comparison between this posting and another one.\n",
        "        Since the ordering of the postings is only given by their docID,\n",
        "        they are equal when their docIDs are equal.\n",
        "        \"\"\"\n",
        "        return self._docID == other._docID\n",
        "    \n",
        "    def __gt__(self, other: 'Posting'):  # greather than comparator\n",
        "        \"\"\" As in the case of __eq__, the ordering of postings is given\n",
        "        by the ordering of their docIDs.\n",
        "        \"\"\"\n",
        "        return self._docID > other._docID\n",
        "    \n",
        "    def __repr__(self):       # for debagging purposes to print the class\n",
        "        \"\"\" String representation of the class.\n",
        "        \"\"\"\n",
        "        return str(self._docID)"
      ],
      "execution_count": 2,
      "outputs": []
    },
    {
      "cell_type": "markdown",
      "metadata": {
        "id": "FyQ757d1xGjD"
      },
      "source": [
        "## Posting Lists\n",
        "\n",
        "A `PostingList` object is a list of `Posting`s. You can construct an empty `PostingList` with `__init__`, or construct and initialize a `PostingList` directly with one docID with `from_docID`, or you can create a `PostingList` object with an already existing list using `from_posting_list`. Then you can merge two posting list with `merge` (the one in input will be added at the end of the one on which the mehod `merge` is called, without any checking on the total ordering of the list), you can intersect them with `intersection` or you can unify them with `union`. With `get_from_corpus` we can retrieve the documents corresponding to the docID stored in this `PostingList`."
      ]
    },
    {
      "cell_type": "code",
      "metadata": {
        "id": "0VSK6GQvxGjE"
      },
      "source": [
        "class PostingList:\n",
        "\n",
        "    _postings: list\n",
        "    \n",
        "    def __init__(self):\n",
        "        \"\"\" Class constructor.\n",
        "        \"\"\"\n",
        "        self._postings = []    # it has as an attribute a list of posting\n",
        "        \n",
        "    @classmethod     # to define another constructor. It will return another PostingList like a constructor\n",
        "    def from_docID(cls, docID):\n",
        "        \"\"\" A posting list can be constructed starting from a single docID.\n",
        "        \"\"\"\n",
        "        plist = cls()\n",
        "        plist._postings = [(Posting(docID))]\n",
        "        return plist\n",
        "    \n",
        "    @classmethod\n",
        "    def from_posting_list(cls, postingList):\n",
        "        \"\"\" A posting list can also be constructed by using another posting list.\n",
        "        \"\"\"\n",
        "        plist = cls()\n",
        "        plist._postings = postingList   # we use it as the postins of this PostingList\n",
        "        return plist\n",
        "    \n",
        "    def merge(self, other: 'PostingList'):  # we have to merge postinglists\n",
        "        \"\"\" Merges the other posting list to this one in a desctructive\n",
        "        way, i.e., modifying the current posting list. This method assumes\n",
        "        that all the docIDs of the second list are higher than the ones\n",
        "        in this list. It assumes the two posting lists to be ordered\n",
        "        and non-empty. Under those assumptions duplicate docIDs are\n",
        "        discarded.\n",
        "        \"\"\"\n",
        "        i = 0\n",
        "        last = self._postings[-1]   # the self element of the current postinglist\n",
        "        while (i < len(other._postings) and last == other._postings[i]):  # we can have the same docID multiple times and when e merge them we don't want them multiple times\n",
        "            i += 1\n",
        "        self._postings += other._postings[i:]\n",
        "        \n",
        "    def intersection(self, other: 'PostingList'):\n",
        "        \"\"\" Returns a new posting list resulting from the intersection\n",
        "        of this one and the one passed as argument.\n",
        "        \"\"\"\n",
        "        intersection = []\n",
        "        i = 0\n",
        "        j = 0\n",
        "        while (i < len(self._postings) and j < len(other._postings)):  # until we reach the end of a posting list\n",
        "            if (self._postings[i] == other._postings[j]):\n",
        "                intersection.append(self._postings[i])\n",
        "                i += 1\n",
        "                j += 1\n",
        "            elif (self._postings[i] < other._postings[j]):\n",
        "                i += 1\n",
        "            else:\n",
        "                j += 1\n",
        "        return PostingList.from_posting_list(intersection)\n",
        "    \n",
        "    def union(self, other: 'PostingList'):\n",
        "        \"\"\" Returns a new posting list resulting from the union of this\n",
        "        one and the one passed as argument.\n",
        "        \"\"\"\n",
        "        union = []\n",
        "        i = 0\n",
        "        j = 0\n",
        "        while (i < len(self._postings) and j < len(other._postings)):\n",
        "            if (self._postings[i] == other._postings[j]):\n",
        "                union.append(self._postings[i])\n",
        "                i += 1\n",
        "                j += 1\n",
        "            elif (self._postings[i] < other._postings[j]):\n",
        "                union.append(self._postings[i])   # because i is the smallest one\n",
        "                i += 1\n",
        "            else:\n",
        "                union.append(other._postings[j]) \n",
        "                j += 1\n",
        "        for k in range(i, len(self._postings)):  # we have to append the remaining elements of the non emptied list\n",
        "            union.append(self._postings[k])\n",
        "        for k in range(j, len(other._postings)):\n",
        "            union.append(other._postings[k])\n",
        "        return PostingList.from_posting_list(union)\n",
        "\n",
        "    def difference(self, other: 'PostingList'):\n",
        "      difference = []\n",
        "\n",
        "      return PostingList.from_posting_list(difference)\n",
        "    \n",
        "    def get_from_corpus(self, corpus):   # used when we have a posting list that is the result of a query, but I don't want the docID, I want the docs!\n",
        "        return list(map(lambda x: x.get_from_corpus(corpus), self._postings))  # I return a list of documents\n",
        "    \n",
        "    def __getitem__(self, key):\n",
        "        return self._postings[key]\n",
        "    \n",
        "    def __len__(self):\n",
        "        return len(self._postings)\n",
        "    \n",
        "    def __repr__(self):\n",
        "        return \", \".join(map(str, self._postings))"
      ],
      "execution_count": 3,
      "outputs": []
    },
    {
      "cell_type": "markdown",
      "metadata": {
        "id": "j2CDYrbSxGjh"
      },
      "source": [
        "## Terms\n",
        "\n",
        "A `Term` object contains both the word itself and the `PostingList` with all the docIDs of the documents in which the word is contained. The `merge` function merges the `PostingList`s of two equal `Term`s. Then we have some comparison methods to check if two `Term`s are equal or one is greater then the other, etc."
      ]
    },
    {
      "cell_type": "code",
      "metadata": {
        "id": "PA4u5J7LxGji"
      },
      "source": [
        "class ImpossibleMergeError(Exception):\n",
        "    pass\n",
        "\n",
        "@total_ordering  # to have all the ordering methods defined automatically\n",
        "class Term:\n",
        "\n",
        "    posting_list: PostingList\n",
        "    \n",
        "    def __init__(self, term, docID):   # we create a term with a DocID, we sort them and we merge the equal terms\n",
        "        self.term = term\n",
        "        self.posting_list = PostingList.from_docID(docID)\n",
        "        \n",
        "    def merge(self, other: 'Term'):   # when we merge two terms\n",
        "        \"\"\" Merges (destructively) this term and the corresponding posting list\n",
        "        with another equal term and its corrsponding posting list.\n",
        "        \"\"\"\n",
        "        if (self.term == other.term): # cannot merge posting lists with different terms!\n",
        "            self.posting_list.merge(other.posting_list)  # merge the current posting list with the one of the other\n",
        "        else: \n",
        "            raise ImpossibleMergeError # (some kind of error) error of impossible merge\n",
        "            \n",
        "    def __eq__(self, other: 'Term'):\n",
        "        return self.term == other.term\n",
        "    \n",
        "    def __gt__(self, other: 'Term'):\n",
        "        return self.term > other.term\n",
        "    \n",
        "    def __repr__(self):\n",
        "        return self.term + \": \" + repr(self.posting_list)"
      ],
      "execution_count": 4,
      "outputs": []
    },
    {
      "cell_type": "markdown",
      "metadata": {
        "id": "X3LFUWhbxGjj"
      },
      "source": [
        "## Inverted Index"
      ]
    },
    {
      "cell_type": "code",
      "metadata": {
        "id": "bCbGAP0HxGjk"
      },
      "source": [
        "# We have to do some step of tokenization and normalization\n",
        "\n",
        "def normalize(text):\n",
        "    \"\"\" A simple funzion to normalize a text.\n",
        "    It removes everything that is not a word, a space or an hyphen\n",
        "    and downcases all the text.\n",
        "    \"\"\"\n",
        "    no_punctuation = re.sub(r'[^\\w^\\s^-]', '', text)  # the text that matches a certain pattern will be substittuted with the second expression. ^\\w → not something alphanumeric, ^\\s → not some space, ^- → not a dash, replace it with '', the empty string\n",
        "    downcase = no_punctuation.lower()  # put everything to lower case\n",
        "    return downcase\n",
        "\n",
        "def tokenize(movie: 'MovieDescription'):\n",
        "    \"\"\" Returns a list, which is a posting list, from a movie\n",
        "    description of all tokens present in the description.\n",
        "    \"\"\"\n",
        "    text = normalize(movie.description)\n",
        "    return list(text.split())"
      ],
      "execution_count": 5,
      "outputs": []
    },
    {
      "cell_type": "markdown",
      "metadata": {
        "id": "X2P799YzxGjm"
      },
      "source": [
        "Function to print a progress bar, taken from [here](https://stackoverflow.com/questions/3160699/python-progress-bar)."
      ]
    },
    {
      "cell_type": "code",
      "metadata": {
        "id": "y8Xxb6GWxGjm"
      },
      "source": [
        "import time, sys\n",
        "\n",
        "def update_progress(progress):\n",
        "    \"\"\" Displays or updates a console progress bar.\n",
        "    Accepts a float between 0 and 1. Any int will be converted to a float.\n",
        "    A value under 0 represents a 'halt'.\n",
        "    A value at 1 or bigger represents 100%\n",
        "    \"\"\"\n",
        "    barLength = 40 # Modify this to change the length of the progress bar\n",
        "    status = \"\"\n",
        "    if isinstance(progress, int):\n",
        "        progress = float(progress)\n",
        "    if not isinstance(progress, float):\n",
        "        progress = 0\n",
        "        status = \"error: progress var must be float\\r\\n\"\n",
        "    if progress < 0:\n",
        "        progress = 0\n",
        "        status = \"Halt...\\r\\n\"\n",
        "    if progress >= 1:\n",
        "        progress = 1\n",
        "        status = \"Done!\\r\\n\"\n",
        "    block = int(round(barLength*progress))\n",
        "    text = \"\\r[{0}] {1}% {2}\".format( \"#\"*block + \".\"*(barLength-block), round(progress*100, 2), status)\n",
        "    sys.stdout.write(text)\n",
        "    sys.stdout.flush()"
      ],
      "execution_count": 6,
      "outputs": []
    },
    {
      "cell_type": "markdown",
      "metadata": {
        "id": "6eEWmsg7xGjn"
      },
      "source": [
        "An `InvertedIndex` object contains a dictionary with as keys the words and as values the `Term` associated to that word, which, we reall, contains the `PostingList` associated to the word.\n",
        "\n",
        "#### Data structure\n",
        "\n",
        "Python dictionaries aren’t always what you need: the most important case is where you want to store a very large mapping. When a Python dictionary is accessed, the whole dictionary has to be unpickled and brought into memory.\n",
        "\n",
        "BTrees are a balanced tree data structure that behave like a binary tree but distribute keys throughout a number of tree nodes and each node has between $a$ and $b$ children. The nodes are stored in sorted order. Nodes are then only unpickled and brought into memory as they’re accessed, so the entire tree doesn’t have to occupy memory (unless you really are touching every single key)."
      ]
    },
    {
      "cell_type": "code",
      "metadata": {
        "id": "4tQstca6xGjz"
      },
      "source": [
        "from typing import List\n",
        "\n",
        "class InvertedIndex:\n",
        "\n",
        "    _dictionary: List\n",
        "    complete_plist: PostingList\n",
        "    \n",
        "    def __init__(self):\n",
        "        self._dictionary = []\n",
        "        self.complete_plist = PostingList() # PostingList of all the documents\n",
        "        \n",
        "    @classmethod  # instead of having this method associated to a specific instance/object of the class InvertedIndex we write InvertedIndex.from_corpus(). Because you can have only one __init__ method, so you use @classmethod to have multiple constructors. It's like a static method in Java\n",
        "    def from_corpus(cls, corpus: list):\n",
        "        # Here we \"cheat\" by using python dictionaries\n",
        "        intermediate_dict = {}   # we cheat a little bit and use a Python dictionary → we should create a big list, sort it and merge everything\n",
        "        print(\"Processing the corpus to create the index...\")\n",
        "        for docID, document in enumerate(corpus): # NB: corpus: collection (list) of objects of type MovieDescription\n",
        "            if docID == 0:\n",
        "                plist = PostingList.from_docID(docID)\n",
        "            else:\n",
        "                plist.merge(PostingList.from_docID(docID)) # I update the PostingList of all the docs\n",
        "            tokens = tokenize(document) # document is a MovieDescription object\n",
        "            for token in tokens:\n",
        "                term = Term(token, docID)\n",
        "                try:\n",
        "                    intermediate_dict[token].merge(term)  # I merge the two posting lists → Term.merge() which calls PostingList.merge()\n",
        "                except KeyError:\n",
        "                    intermediate_dict[token] = term # for when the term is not present in the dict\n",
        "            # To observe the progressing of our indexing\n",
        "            update_progress(docID/len(corpus))\n",
        "        \n",
        "        idx = cls()  # we call the constructor of the class = InvertedIndex\n",
        "        idx._dictionary = sorted(intermediate_dict.values())  # list of all the sorted terms\n",
        "        idx.complete_plist = plist\n",
        "        return idx\n",
        "    \n",
        "    def __getitem__(self, key): # indexing the inverted index using as keys the terms\n",
        "        for term in self._dictionary:  # we could do a binary search\n",
        "            if term.term == key:\n",
        "                return term.posting_list  # quering the index with a  word returns the PostingList associated to that word\n",
        "        raise KeyError(f\"The term '{key}' is not present in the index.\") # the key is not present!\n",
        "        \n",
        "    def __repr__(self):\n",
        "        return \"A dictionary with \" + str(len(self._dictionary)) + \" terms\""
      ],
      "execution_count": 7,
      "outputs": []
    },
    {
      "cell_type": "markdown",
      "metadata": {
        "id": "TCTOmEL6xGj2"
      },
      "source": [
        "## Reading the Corpus\n",
        "\n",
        "A `MovieDescription` object has a title and a description.  We have some comparison methods to check if two `MovieDescription`s are equal or one is greater then the other, etc. The function `hash` computes the hash of a `MovieDescription` using the hash of its title and its description.\n",
        "\n",
        "We have implemented the comparison methods to make `MovieDescription` a sortable object (so we can iterate on it), and the `hash` method to make it hashable (so we can put it in a `set`)."
      ]
    },
    {
      "cell_type": "code",
      "metadata": {
        "id": "bQCbEDYixGj3"
      },
      "source": [
        "@total_ordering\n",
        "class MovieDescription:  # container for all the info we have about the movie\n",
        "    \n",
        "    def __init__(self, title: str, description: str):\n",
        "        self.title = title\n",
        "        self.description = description\n",
        "        \n",
        "    def __eq__(self, other: 'MovieDescription'):\n",
        "        return self.title == other.title\n",
        "    \n",
        "    def __gt__(self, other: 'MovieDescription'):\n",
        "        return self.title > other.title\n",
        "\n",
        "    def __hash__(self):\n",
        "      return hash((self.title, self.description))\n",
        "        \n",
        "    def __repr__(self):\n",
        "        return self.title  # + \"\\n\" + self.description + \"\\n\""
      ],
      "execution_count": 8,
      "outputs": []
    },
    {
      "cell_type": "code",
      "metadata": {
        "id": "L3jYwnNzxGj4"
      },
      "source": [
        "def read_movie_descriptions():\n",
        "    filename = 'data/plot_summaries.txt'   # not very portable but done for the sake of simplicity\n",
        "    movie_names_file = 'data/movie.metadata.tsv'\n",
        "    with open(movie_names_file, 'r') as csv_file:\n",
        "        movie_names = csv.reader(csv_file, delimiter = '\\t')   # we define the csv reader\n",
        "        names_table = {}   # Python dictionary with all the names of the films: key = movieID, value = movie title\n",
        "        for name in movie_names:\n",
        "            names_table[name[0]] = name[2] # the first element is the ID, the third elemnt is the title\n",
        "    # Now we have all the associations between ID and title, we miss the move description\n",
        "\n",
        "    with open(filename, 'r') as csv_file:\n",
        "        descriptions = csv.reader(csv_file, delimiter = '\\t')\n",
        "        corpus = []   # collection (list) of objects of type MovieDescription\n",
        "        for desc in descriptions:\n",
        "            try:      # at least in this dataset there are some errors so some descriptions have not a matching ID\n",
        "                movie = MovieDescription(names_table[desc[0]], desc[1]) # the first element is the ID, the second the description\n",
        "                corpus.append(movie)\n",
        "            except KeyError:  # in case we don't find the title associated to that ID\n",
        "                # We ignore the descriptions for which we cannot find a title\n",
        "                pass\n",
        "        return corpus"
      ],
      "execution_count": 9,
      "outputs": []
    },
    {
      "cell_type": "markdown",
      "metadata": {
        "id": "y41lObHswkdp"
      },
      "source": [
        "## Edit distance\n",
        "\n",
        "By computing the edit distance we can find the set of words that are the closest to a misspelled word. However, computing the edit distance on the entire dictionary can be too expensive. We can use some heuristics to limit the number of words, like looking only at words with the same initial letter (hopefully this has not been misspelled)."
      ]
    },
    {
      "cell_type": "code",
      "metadata": {
        "id": "uTRU_Ar2wj4Q"
      },
      "source": [
        "def edit_distance(u, v, print = False):\n",
        "    \"\"\" Computes the edit (or Levenshtein) distance between two words u and v.\n",
        "    \"\"\"\n",
        "    nrows = len(u) + 1\n",
        "    ncols = len(v) + 1\n",
        "    M = [[0] * ncols for i in range(0, nrows)]  # matrix all filled with zeros\n",
        "    for i in range(0, nrows):  # we fill the first row, the trivial one\n",
        "        M[i][0] = i\n",
        "    for j in range(0, ncols):  # we fill the first col, the trivial one\n",
        "        M[0][j] = j\n",
        "    for i in range(1, nrows):\n",
        "        for j in range(1, ncols):\n",
        "            candidates = [M[i-1][j] + 1, M[i][j-1] + 1]\n",
        "            if (u[i-1] == v[j-1]):\n",
        "                candidates.append(M[i-1][j-1])\n",
        "            else:\n",
        "                candidates.append(M[i-1][j-1] + 1)\n",
        "            M[i][j] = min(candidates)\n",
        "            # To print the distance matrix\n",
        "            if print:\n",
        "                print(M[i][j], end=\"\\t\")\n",
        "        if print:\n",
        "          print()\n",
        "    return M[-1][-1]  # Bottom right element of M (-1 means the last element)\n",
        "\n",
        "def find_nearest(word, dictionary, keep_first=False):\n",
        "    if keep_first:\n",
        "        # If keep_first is true then we only search across the words in the dictionary starting with the same letter\n",
        "        dictionary = [w for w in dictionary if w[0] == word[0]]\n",
        "    # Remove comment to see the reduction in the size of the dictionary when keeping fixed the first letter\n",
        "    #print(len(dictionary))\n",
        "    # Apply f(x) = edit_distance(word, x) to all words in the dictionary\n",
        "    distances = map(lambda x: edit_distance(word, x), dictionary)\n",
        "    # Produce all the pairs (distance, term) usng zip and find one with the minimal distance.\n",
        "    return min(zip(distances, dictionary))[1]"
      ],
      "execution_count": 10,
      "outputs": []
    },
    {
      "cell_type": "markdown",
      "metadata": {
        "id": "5hDkJdmCxGkH"
      },
      "source": [
        "## IR System\n",
        "\n",
        "An `IRsystem` object contains the entire corpus and the `InvertedIndex`."
      ]
    },
    {
      "cell_type": "code",
      "metadata": {
        "id": "yI9fPG7JxGkI"
      },
      "source": [
        "class IRsystem:\n",
        "\n",
        "    _corpus: list\n",
        "    _index: InvertedIndex\n",
        "    \n",
        "    def __init__(self, corpus: list, index: 'InvertedIndex'):\n",
        "        self._corpus = corpus\n",
        "        self._index = index\n",
        "        \n",
        "    @classmethod\n",
        "    def from_corpus(cls, corpus: list): # generate the entire inverted index calling the constructor\n",
        "        index = InvertedIndex.from_corpus(corpus)\n",
        "        return cls(corpus, index)  # retrun the constructor when we have yet the index\n",
        "\n",
        "    def get_from_corpus(self, plist):\n",
        "        return plist.get_from_corpus(self._corpus)\n",
        "\n",
        "    def spelling_correction(self, norm_words: List[str]):\n",
        "        postings = []\n",
        "        for w in norm_words:\n",
        "            try:\n",
        "                res = self._index[w]\n",
        "            except KeyError:\n",
        "                dictionary = [t.term for t in self._index._dictionary]\n",
        "                sub = find_nearest(w, dictionary, keep_first=True)\n",
        "                print(\"{} not found. Did you mean {}?\".format(w, sub))\n",
        "                res = self._index[sub]\n",
        "            postings.append(res)\n",
        "        print()\n",
        "        return postings\n",
        "\n",
        "    def answer_and_query(self, words: List[str], spellingCorrection = False):\n",
        "        \"\"\" AND-query, if `spellingCorrection` is `True` with spelling correction\n",
        "        \"\"\"\n",
        "        norm_words = map(normalize, words)  # Normalize all the words. IMPORTANT!!! If the user uses upper-case we will not have ANY match! We have to perform the same normalization of the docs in the corpus on the query!\n",
        "        if not spellingCorrection:\n",
        "            postings = map(lambda w: self._index[w], norm_words) # get the posting list for each word → list of posting lists\n",
        "        else:\n",
        "            postings = self.spelling_correction(norm_words)\n",
        "        plist = reduce(lambda x, y: x.intersection(y), postings)  # apply the function to the two items of the list, then apply it to the result with the third, then the result with the fourt term and so on until the end of the list\n",
        "        return self.get_from_corpus(plist)\n",
        "\n",
        "    def answer_or_query(self, words: List[str], spellingCorrection = False):\n",
        "        \"\"\" OR-query, if `spellingCorrection` is `True` with spelling correction\n",
        "        \"\"\"\n",
        "        norm_words = map(normalize, words)\n",
        "        if not spellingCorrection:\n",
        "            postings = map(lambda w: self._index[w], norm_words)\n",
        "        else:\n",
        "            postings = self.spelling_correction(norm_words)\n",
        "        plist = reduce(lambda x, y: x.union(y), postings)\n",
        "        return self.get_from_corpus(plist)\n",
        "\n",
        "    def answer_not_query(self, words: List[str], spellingCorrection = False):\n",
        "        \"\"\" NOT-query (if `words` is longer than 1, the words are connected using an AND and then the NOT is performed)\n",
        "        \"\"\"\n",
        "        norm_words = map(normalize, words)\n",
        "        if not spellingCorrection:\n",
        "            postings = map(lambda w: self._index[w], norm_words)\n",
        "        else:\n",
        "            postings = self.spelling_correction(norm_words)\n",
        "        words_plist = reduce(lambda x, y: x.union(y), postings)\n",
        "        plist = copy.deepcopy(self._index.complete_plist)\n",
        "        for i in words_plist:\n",
        "            if i in plist:\n",
        "                plist._postings.remove(i)\n",
        "        return self.get_from_corpus(plist)\n",
        "\n",
        "    def answer_query(self, op: str, words = None, word = None, postings = None, postings2 = None):\n",
        "        if words:\n",
        "            norm_words = map(normalize, words)\n",
        "            words_postings = map(lambda w: self._index[w], norm_words)\n",
        "            if op == 'AND':\n",
        "                plist = reduce(lambda x, y: x.intersection(y), words_postings)\n",
        "            elif op == 'OR':\n",
        "                plist = reduce(lambda x, y: x.union(y), words_postings)\n",
        "            elif op == 'NOT':\n",
        "                words_postings = list(words_postings)\n",
        "                for i in words_postings[1]:\n",
        "                    if i in words_postings[0]:\n",
        "                        words_postings[0]._postings.remove(i)\n",
        "                return words_postings[0]\n",
        "        else:\n",
        "            if word:\n",
        "                norm_word = normalize(word)\n",
        "                postings2 = self._index[norm_word]\n",
        "            if op == 'AND':\n",
        "                plist = postings.intersection(postings2)\n",
        "            elif op == 'OR':\n",
        "                plist = postings.union(postings2)\n",
        "            elif op == 'NOT':\n",
        "                for i in postings2:\n",
        "                    if i in postings:\n",
        "                        postings._postings.remove(i)\n",
        "                return postings\n",
        "        return plist"
      ],
      "execution_count": 11,
      "outputs": []
    },
    {
      "cell_type": "markdown",
      "metadata": {
        "id": "tUTEfdG69JF5"
      },
      "source": [
        "### Queries"
      ]
    },
    {
      "cell_type": "code",
      "metadata": {
        "id": "rQUqcrdlxGkM"
      },
      "source": [
        "def and_query(ir: IRsystem, text: str, noprint=True):\n",
        "    words = text.split()\n",
        "    answer = ir.answer_and_query(words)  # list of documents\n",
        "    if not noprint:\n",
        "        for movie in answer:\n",
        "            print(movie)\n",
        "    return answer\n",
        "        \n",
        "def or_query(ir: IRsystem, text: str, noprint=True):\n",
        "    words = text.split()\n",
        "    answer = ir.answer_or_query(words)\n",
        "    if not noprint:\n",
        "        for movie in answer:\n",
        "            print(movie)\n",
        "    return answer\n",
        "\n",
        "def not_query(ir: IRsystem, text: str, noprint=True):\n",
        "    words = text.split()\n",
        "    answer = ir.answer_not_query(words)\n",
        "    if not noprint:\n",
        "        for movie in answer:\n",
        "            print(movie)\n",
        "    return answer\n",
        "\n",
        "def query(ir: IRsystem, text: str, noprint=True):\n",
        "    \"\"\" This query can answer complex queries with 'AND', 'OR' and 'NOT' but without parentheses.\n",
        "    E.g. text = \"yoda AND darth OR Gandalf NOT love\"\n",
        "    \"\"\"\n",
        "    # add a space after '(' and before ')' so to split them into separate tokens\n",
        "    text = re.sub(r\"\\(\", r'( ', text)\n",
        "    text = re.sub(r\"\\)\", r' )', text)\n",
        "    # split the text in words (it eliminates spaces at the beginning/end of words, so even if we add them with the first passage it's not important)\n",
        "    words = text.split()\n",
        "    if len(words) == 1:\n",
        "        print(\"You cannot use one single word! Use at least two words connected with a logical operator.\")\n",
        "        return None\n",
        "    for i, w in enumerate(words):\n",
        "        if w in ['AND', 'OR', 'NOT']:\n",
        "            if i == 1:\n",
        "                partial_answer = ir.answer_query(op = w, words = [words[i-1], words[i+1]])\n",
        "            else:\n",
        "                partial_answer = ir.answer_query(op = w, word = words[i+1], postings = partial_answer)\n",
        "    answer = ir.get_from_corpus(partial_answer)\n",
        "    if not noprint:\n",
        "        for movie in answer:\n",
        "            print(movie)\n",
        "    return answer"
      ],
      "execution_count": 12,
      "outputs": []
    },
    {
      "cell_type": "code",
      "metadata": {
        "id": "g1c4zwaxBwWQ"
      },
      "source": [
        "def query_with_pars(text: str, noprint=True):\n",
        "    \"\"\" This query can answer to any type of query, also complex ones. Use 'AND', 'OR' and 'NOT'\n",
        "    and parenthesis to specify how to combine the words in the query.\n",
        "    E.g. text = \"(yoda AND darth) OR Gandalf NOT love\"\n",
        "    \"\"\"\n",
        "    text = re.sub(r\"\\(\", r'( ', text)\n",
        "    text = re.sub(r\"\\)\", r' )', text)\n",
        "    words = text.split()\n",
        "    words_mod = copy.deepcopy(words)\n",
        "    print(words)\n",
        "    if len(words) == 1:\n",
        "        print(\"You cannot use one single word! Use at least two words connected with a logical operator.\")\n",
        "        return None\n",
        "    openp = []\n",
        "    closep = []\n",
        "    for i, w in enumerate(words):\n",
        "        if w == \"(\": openp.append(i)\n",
        "        elif w == \")\": closep.append(i)\n",
        "\n",
        "    print(openp, closep)\n",
        "\n",
        "    while closep:\n",
        "        c = closep[0]\n",
        "        print(c)\n",
        "        o = None\n",
        "        for i in openp:\n",
        "            if i < c:\n",
        "                o = i\n",
        "        print(o)\n",
        "        # Process the query in these parenthesis, the remove o in openp and c in closep\n",
        "        for i, w in enumerate(words_mod[o+1 : c]):\n",
        "            if w in ['AND', 'OR', 'NOT']:\n",
        "                if type(words_mod[(o+1) + i-1]) == str and type(words_mod[(o+1) + i+1]) == str:\n",
        "                    plist = ir.answer_query(op = w, words = [words_mod[(o+1) + i-1], words_mod[(o+1) + i+1]])\n",
        "                elif type(words_mod[(o+1) + i-1]) == PostingList and type(words_mod[(o+1) + i+1]) == str:\n",
        "                    plist = ir.answer_query(op = w, word = words_mod[(o+1) + i+1], postings = plist)\n",
        "                elif type(words_mod[(o+1) + i-1]) == PostingList and type(words_mod[(o+1) + i+1]) == str:\n",
        "                    plist = ir.answer_query(op = w, word = words_mod[(o+1) + i-1], postings = plist)\n",
        "                elif type(words_mod[(o+1) + i-1]) == PostingList and type(words_mod[(o+1) + i+1]) == PostingList:\n",
        "                    ????\n",
        "        words_mod[o] = plist\n",
        "        del words_mod[o+1:c+1]\n",
        "        print(words_mod)\n",
        "        openp = []\n",
        "        closep = []\n",
        "        for i, w in enumerate(words_mod):\n",
        "            if w == \"(\": openp.append(i)\n",
        "            elif w == \")\": closep.append(i)\n",
        "\n",
        "    return"
      ],
      "execution_count": 13,
      "outputs": []
    },
    {
      "cell_type": "code",
      "metadata": {
        "colab": {
          "base_uri": "https://localhost:8080/"
        },
        "id": "9xbgZgpbL1xz",
        "outputId": "6edcb040-6a13-476a-9d72-edc62a6856c2"
      },
      "source": [
        "plist = PostingList()\n",
        "print(type(plist))\n",
        "print(type(plist) == PostingList)\n",
        "a = 3\n",
        "print(type(a) == PostingList)"
      ],
      "execution_count": 14,
      "outputs": [
        {
          "output_type": "stream",
          "text": [
            "<class '__main__.PostingList'>\n",
            "True\n",
            "False\n"
          ],
          "name": "stdout"
        }
      ]
    },
    {
      "cell_type": "code",
      "metadata": {
        "colab": {
          "base_uri": "https://localhost:8080/"
        },
        "id": "2r253vxhbbNq",
        "outputId": "33e7f3eb-3cbe-446a-8edf-27753c5fb145"
      },
      "source": [
        "test = \"hi AND ((how AND (are OR you) OR I AND (am AND fine) OR I) AND am AND (sleepy OR hungry) AND cold)\"\n",
        "print(test)\n",
        "#query_with_pars(test)"
      ],
      "execution_count": 15,
      "outputs": [
        {
          "output_type": "stream",
          "text": [
            "hi AND ((how AND (are OR you) OR I AND (am AND fine) OR I) AND am AND (sleepy OR hungry) AND cold)\n"
          ],
          "name": "stdout"
        }
      ]
    },
    {
      "cell_type": "code",
      "metadata": {
        "colab": {
          "base_uri": "https://localhost:8080/"
        },
        "id": "1339BqTzX3Gs",
        "outputId": "42e7bb32-f79e-431c-ee5c-1987b4c02116"
      },
      "source": [
        "test = \"Ciao AND bella OR (come AND stai OR boh) AND ciao\"\n",
        "print(test)\n",
        "#query_with_pars(test)\n",
        "\n",
        "print()\n",
        "\n",
        "test = \"Ciao AND bella OR (come AND (stai OR boh)) AND ciao\"\n",
        "print(test)\n",
        "#query_with_pars(test)\n",
        "\n",
        "print()\n",
        "\n",
        "test = \"Ciao AND bella OR (come AND (stai OR boh) NOT miao) AND ciao\"\n",
        "print(test)\n",
        "#query_with_pars(test)\n",
        "\n",
        "print()\n",
        "\n",
        "test = \"Ciao AND bella OR (come AND (stai OR boh) NOT miao AND (indice OR me) OR tu) AND ciao\"\n",
        "print(test)\n",
        "#query_with_pars(test)"
      ],
      "execution_count": 16,
      "outputs": [
        {
          "output_type": "stream",
          "text": [
            "Ciao AND bella OR (come AND stai OR boh) AND ciao\n",
            "\n",
            "Ciao AND bella OR (come AND (stai OR boh)) AND ciao\n",
            "\n",
            "Ciao AND bella OR (come AND (stai OR boh) NOT miao) AND ciao\n",
            "\n",
            "Ciao AND bella OR (come AND (stai OR boh) NOT miao AND (indice OR me) OR tu) AND ciao\n"
          ],
          "name": "stdout"
        }
      ]
    },
    {
      "cell_type": "markdown",
      "metadata": {
        "id": "ULEAeWsY9GfM"
      },
      "source": [
        "### Queries with spelling correction"
      ]
    },
    {
      "cell_type": "code",
      "metadata": {
        "id": "FRuNrENZ9FmE"
      },
      "source": [
        "def and_query_sc(ir: IRsystem, text: str, noprint=True):\n",
        "    words = text.split()\n",
        "    answer = ir.answer_and_query(words, spellingCorrection=True)\n",
        "    if not noprint:\n",
        "        for movie in answer:\n",
        "            print(movie)\n",
        "    return answer\n",
        "\n",
        "def or_query_sc(ir: IRsystem, text: str, noprint=True):\n",
        "    words = text.split()\n",
        "    answer = ir.answer_or_query(words, spellingCorrection=True)\n",
        "    if not noprint:\n",
        "        for movie in answer:\n",
        "            print(movie)\n",
        "    return answer"
      ],
      "execution_count": 17,
      "outputs": []
    },
    {
      "cell_type": "markdown",
      "metadata": {
        "id": "kmkOEhk1xGkP"
      },
      "source": [
        "## Test queries"
      ]
    },
    {
      "cell_type": "markdown",
      "metadata": {
        "id": "E6fkN6g6YhqQ"
      },
      "source": [
        "### Initialization"
      ]
    },
    {
      "cell_type": "code",
      "metadata": {
        "id": "W2th9vocxGks",
        "colab": {
          "base_uri": "https://localhost:8080/"
        },
        "outputId": "cc7e2185-00aa-490c-c0dc-fbd07c09ff0a"
      },
      "source": [
        "corpus = read_movie_descriptions()\n",
        "len(corpus)"
      ],
      "execution_count": 18,
      "outputs": [
        {
          "output_type": "execute_result",
          "data": {
            "text/plain": [
              "42204"
            ]
          },
          "metadata": {
            "tags": []
          },
          "execution_count": 18
        }
      ]
    },
    {
      "cell_type": "markdown",
      "metadata": {
        "id": "-EYyh2C-3Wxf"
      },
      "source": [
        "#### Saving / loading the index\n",
        "\n",
        "We will save the index using `Pickle`. `Pickle` is used for serializing and de-serializing Python object structures, also called marshalling or flattening. Serialization refers to the process of converting an object in memory to a byte stream that can be stored on disk or sent over a network. Later on, this character stream can then be retrieved and de-serialized back to a Python object."
      ]
    },
    {
      "cell_type": "code",
      "metadata": {
        "colab": {
          "base_uri": "https://localhost:8080/"
        },
        "id": "Ltb1WbmbACkP",
        "outputId": "7c677996-3d00-492f-d280-8c2abeac7312"
      },
      "source": [
        "updated = True\n",
        "\n",
        "filename = \"index.pickle\"\n",
        "\n",
        "# If the index is saved and it is updated I load it, otherwise I create it and save it\n",
        "if os.path.isfile(filename) and updated:\n",
        "    print (\"Index file exists. Loading the index...\")\n",
        "    # load the index\n",
        "    tic = time.time()\n",
        "    infile = open(filename, 'rb')\n",
        "    idx = pickle.load(infile)\n",
        "    infile.close()\n",
        "    toc = time.time()\n",
        "    print(\"Index loaded.\")\n",
        "    print(f\"Time: {round(toc-tic, 3)}s\")\n",
        "else:\n",
        "    print (\"Index file does not exist.\")\n",
        "    tic = time.time()\n",
        "    idx = InvertedIndex.from_corpus(corpus)\n",
        "    toc = time.time()\n",
        "    print(f\"\\n\\nTime: {round(toc-tic, 3)}s\")\n",
        "    # save the index\n",
        "    outfile = open(filename, 'wb')\n",
        "    pickle.dump(idx, outfile)\n",
        "    outfile.close()"
      ],
      "execution_count": 19,
      "outputs": [
        {
          "output_type": "stream",
          "text": [
            "Index file exists. Loading the index...\n",
            "Index loaded.\n",
            "Time: 12.531s\n"
          ],
          "name": "stdout"
        }
      ]
    },
    {
      "cell_type": "code",
      "metadata": {
        "colab": {
          "base_uri": "https://localhost:8080/"
        },
        "id": "c6vKVTvKxGku",
        "outputId": "212191ee-148a-416a-af40-08336fa62fad"
      },
      "source": [
        "print(idx)"
      ],
      "execution_count": 20,
      "outputs": [
        {
          "output_type": "stream",
          "text": [
            "A dictionary with 194757 terms\n"
          ],
          "name": "stdout"
        }
      ]
    },
    {
      "cell_type": "code",
      "metadata": {
        "id": "N6RjfRZDxGkz"
      },
      "source": [
        "ir = IRsystem(corpus, idx)"
      ],
      "execution_count": 21,
      "outputs": []
    },
    {
      "cell_type": "markdown",
      "metadata": {
        "id": "2pbRmqgN4gRv"
      },
      "source": [
        "### AND queries"
      ]
    },
    {
      "cell_type": "code",
      "metadata": {
        "id": "aV03aYgCxGkz",
        "colab": {
          "base_uri": "https://localhost:8080/"
        },
        "outputId": "648c1050-62e0-4911-de37-3e036a5fcfc0"
      },
      "source": [
        "fg_and_query = and_query(ir, \"frodo Gandalf\", noprint=False)"
      ],
      "execution_count": 22,
      "outputs": [
        {
          "output_type": "stream",
          "text": [
            "The Lord of the Rings: The Fellowship of the Ring\n",
            "The Lord of the Rings\n",
            "The Hunt for Gollum\n",
            "The Return of the King\n",
            "Date Movie\n",
            "The Lord of the Rings: The Two Towers\n",
            "The Lord of the Rings: The Return of the King\n"
          ],
          "name": "stdout"
        }
      ]
    },
    {
      "cell_type": "code",
      "metadata": {
        "colab": {
          "base_uri": "https://localhost:8080/"
        },
        "id": "ahR0YEwgxGk0",
        "outputId": "ab58f109-1c8e-42c5-cf48-7ef8d0cc11cd"
      },
      "source": [
        "yld_and_query = and_query(ir, \"yoda Luke darth\", noprint=False)"
      ],
      "execution_count": 23,
      "outputs": [
        {
          "output_type": "stream",
          "text": [
            "Star Wars Episode V: The Empire Strikes Back\n",
            "Something, Something, Something Dark Side\n",
            "Return of the Ewok\n",
            "Star Wars Episode III: Revenge of the Sith\n",
            "Star Wars Episode VI: Return of the Jedi\n",
            "It's a Trap!\n"
          ],
          "name": "stdout"
        }
      ]
    },
    {
      "cell_type": "code",
      "metadata": {
        "id": "mgIQuYe7xGk2"
      },
      "source": [
        "frodo_query = and_query(ir, \"frodo\")\n",
        "frodo_set = set(frodo_query)\n",
        "\n",
        "gandalf_query = and_query(ir, \"Gandalf\")\n",
        "gandalf_set = set(gandalf_query)\n",
        "\n",
        "fg_and_set = frodo_set.intersection(gandalf_set)\n",
        "\n",
        "assert set(fg_and_query) == fg_and_set"
      ],
      "execution_count": 25,
      "outputs": []
    },
    {
      "cell_type": "code",
      "metadata": {
        "id": "9epvCZy9Hyo1"
      },
      "source": [
        "yoda_query = and_query(ir, \"yoda\")\n",
        "yoda_set = set(yoda_query)\n",
        "\n",
        "luke_query = and_query(ir, \"Luke\")\n",
        "luke_set = set(luke_query)\n",
        "\n",
        "darth_query = and_query(ir, \"darth\")\n",
        "darth_set = set(darth_query)\n",
        "\n",
        "yld_and_set = yoda_set.intersection(luke_set).intersection(darth_set)\n",
        "\n",
        "assert set(yld_and_query) == yld_and_set"
      ],
      "execution_count": 26,
      "outputs": []
    },
    {
      "cell_type": "code",
      "metadata": {
        "colab": {
          "base_uri": "https://localhost:8080/"
        },
        "id": "Pc4kjbMpxGk0",
        "outputId": "0d00eab0-0265-40c3-a315-a81476148bb1"
      },
      "source": [
        "try:\n",
        "    and_query(ir, \"thig\")\n",
        "except KeyError:\n",
        "    print(sys.exc_info()[1])"
      ],
      "execution_count": 24,
      "outputs": [
        {
          "output_type": "stream",
          "text": [
            "\"The term 'thig' is not present in the index.\"\n"
          ],
          "name": "stdout"
        }
      ]
    },
    {
      "cell_type": "markdown",
      "metadata": {
        "id": "0R51dLb6x-cZ"
      },
      "source": [
        "### AND queries with spelling correction"
      ]
    },
    {
      "cell_type": "code",
      "metadata": {
        "colab": {
          "base_uri": "https://localhost:8080/"
        },
        "id": "JRmkt_mwx9CF",
        "outputId": "93529df0-d5cc-4309-d193-c071a8e5d918"
      },
      "source": [
        "mispelled_and_query = and_query_sc(ir, \"yioda lukke darhth\", noprint=False)"
      ],
      "execution_count": 27,
      "outputs": [
        {
          "output_type": "stream",
          "text": [
            "yioda not found. Did you mean yoda?\n",
            "lukke not found. Did you mean luke?\n",
            "darhth not found. Did you mean darth?\n",
            "\n",
            "Star Wars Episode V: The Empire Strikes Back\n",
            "Something, Something, Something Dark Side\n",
            "Return of the Ewok\n",
            "Star Wars Episode III: Revenge of the Sith\n",
            "Star Wars Episode VI: Return of the Jedi\n",
            "It's a Trap!\n"
          ],
          "name": "stdout"
        }
      ]
    },
    {
      "cell_type": "code",
      "metadata": {
        "id": "KVlCeOtj8eU2"
      },
      "source": [
        "assert yld_and_query == mispelled_and_query"
      ],
      "execution_count": 28,
      "outputs": []
    },
    {
      "cell_type": "markdown",
      "metadata": {
        "id": "71S0x5C44jbL"
      },
      "source": [
        "### OR queries"
      ]
    },
    {
      "cell_type": "code",
      "metadata": {
        "id": "SvgjTQIVxGk1",
        "colab": {
          "base_uri": "https://localhost:8080/"
        },
        "outputId": "deefa1f5-157b-4d71-b221-d2e5f202bbf3"
      },
      "source": [
        "fy_or_query = or_query(ir, \"frodo yoda\", noprint=False)"
      ],
      "execution_count": 29,
      "outputs": [
        {
          "output_type": "stream",
          "text": [
            "Star Wars Episode V: The Empire Strikes Back\n",
            "Star Wars Episode II: Attack of the Clones\n",
            "George Lucas in Love\n",
            "The Lord of the Rings: The Fellowship of the Ring\n",
            "The Lord of the Rings\n",
            "Something, Something, Something Dark Side\n",
            "The Hunt for Gollum\n",
            "The Return of the King\n",
            "Return of the Ewok\n",
            "Aliens in the Wild, Wild West\n",
            "Star Wars Episode III: Revenge of the Sith\n",
            "Star Wars Episode VI: Return of the Jedi\n",
            "Star Wars: The Clone Wars\n",
            "Date Movie\n",
            "Gulliver's Travels\n",
            "Lego Star Wars: The Quest for R2-D2\n",
            "The Lord of the Rings: The Two Towers\n",
            "It's a Trap!\n",
            "The Lord of the Rings: The Return of the King\n",
            "LEGO Star Wars: Revenge of the Brick\n"
          ],
          "name": "stdout"
        }
      ]
    },
    {
      "cell_type": "code",
      "metadata": {
        "id": "BJ6JWuDhxGk2"
      },
      "source": [
        "fy_or_set = set(frodo_query + yoda_query)\n",
        "\n",
        "assert set(fy_or_query) == fy_or_set"
      ],
      "execution_count": 30,
      "outputs": []
    },
    {
      "cell_type": "code",
      "metadata": {
        "colab": {
          "base_uri": "https://localhost:8080/"
        },
        "id": "9LZkIiLrL1gy",
        "outputId": "5f7509cb-f99b-4b51-9393-9155a10c76c2"
      },
      "source": [
        "fyg_or_query = or_query(ir, \"frodo yoda gandalf\", noprint=False)"
      ],
      "execution_count": 31,
      "outputs": [
        {
          "output_type": "stream",
          "text": [
            "Star Wars Episode V: The Empire Strikes Back\n",
            "Imaginationland Episode II\n",
            "Star Wars Episode II: Attack of the Clones\n",
            "George Lucas in Love\n",
            "The Lord of the Rings: The Fellowship of the Ring\n",
            "The Lord of the Rings\n",
            "Something, Something, Something Dark Side\n",
            "The Hunt for Gollum\n",
            "The Return of the King\n",
            "Return of the Ewok\n",
            "Aliens in the Wild, Wild West\n",
            "Star Wars Episode III: Revenge of the Sith\n",
            "Star Wars Episode VI: Return of the Jedi\n",
            "Star Wars: The Clone Wars\n",
            "Date Movie\n",
            "Gulliver's Travels\n",
            "Lego Star Wars: The Quest for R2-D2\n",
            "The Lord of the Rings: The Two Towers\n",
            "It's a Trap!\n",
            "The Lord of the Rings: The Return of the King\n",
            "LEGO Star Wars: Revenge of the Brick\n"
          ],
          "name": "stdout"
        }
      ]
    },
    {
      "cell_type": "code",
      "metadata": {
        "id": "Lzvw6iQuxGk3"
      },
      "source": [
        "fyg_or_set = set(frodo_query + yoda_query + gandalf_query)\n",
        "\n",
        "assert set(fyg_or_query) == fyg_or_set"
      ],
      "execution_count": 32,
      "outputs": []
    },
    {
      "cell_type": "code",
      "metadata": {
        "id": "gTonia6mxGk4"
      },
      "source": [
        "love_query = and_query(ir, \"love\")\n",
        "fyl_or_query = or_query(ir, \"frodo yoda love\")\n",
        "fyl_or_set = set(frodo_query + yoda_query + love_query)\n",
        "\n",
        "assert set(fyl_or_query) == fyl_or_set"
      ],
      "execution_count": 33,
      "outputs": []
    },
    {
      "cell_type": "markdown",
      "metadata": {
        "id": "Vjfy6ezpO6Bs"
      },
      "source": [
        "### OR queries with spelling correction"
      ]
    },
    {
      "cell_type": "code",
      "metadata": {
        "colab": {
          "base_uri": "https://localhost:8080/"
        },
        "id": "0WM_P2qtO6t6",
        "outputId": "6abf9262-9ad8-44b0-d8bf-b225f95b0e93"
      },
      "source": [
        "mispelled_or_query = or_query_sc(ir, \"frodoo yioda ganalf\", noprint=False)"
      ],
      "execution_count": 34,
      "outputs": [
        {
          "output_type": "stream",
          "text": [
            "frodoo not found. Did you mean frodo?\n",
            "yioda not found. Did you mean yoda?\n",
            "ganalf not found. Did you mean gandalf?\n",
            "\n",
            "Star Wars Episode V: The Empire Strikes Back\n",
            "Imaginationland Episode II\n",
            "Star Wars Episode II: Attack of the Clones\n",
            "George Lucas in Love\n",
            "The Lord of the Rings: The Fellowship of the Ring\n",
            "The Lord of the Rings\n",
            "Something, Something, Something Dark Side\n",
            "The Hunt for Gollum\n",
            "The Return of the King\n",
            "Return of the Ewok\n",
            "Aliens in the Wild, Wild West\n",
            "Star Wars Episode III: Revenge of the Sith\n",
            "Star Wars Episode VI: Return of the Jedi\n",
            "Star Wars: The Clone Wars\n",
            "Date Movie\n",
            "Gulliver's Travels\n",
            "Lego Star Wars: The Quest for R2-D2\n",
            "The Lord of the Rings: The Two Towers\n",
            "It's a Trap!\n",
            "The Lord of the Rings: The Return of the King\n",
            "LEGO Star Wars: Revenge of the Brick\n"
          ],
          "name": "stdout"
        }
      ]
    },
    {
      "cell_type": "code",
      "metadata": {
        "id": "3Mbsgw1iPHPQ"
      },
      "source": [
        "assert fyg_or_query == mispelled_or_query"
      ],
      "execution_count": 35,
      "outputs": []
    },
    {
      "cell_type": "markdown",
      "metadata": {
        "id": "THIMgdQcYT9d"
      },
      "source": [
        "### NOT queries"
      ]
    },
    {
      "cell_type": "code",
      "metadata": {
        "id": "AUz7TIfok6pA"
      },
      "source": [
        "a_not_query = not_query(ir, \"a\", noprint=True)"
      ],
      "execution_count": 36,
      "outputs": []
    },
    {
      "cell_type": "code",
      "metadata": {
        "id": "mtYbRBF1VuNT"
      },
      "source": [
        "corpus_set = set(corpus)\n",
        "a_query = and_query(ir, \"a\", noprint=True)\n",
        "a_set = set(a_query)\n",
        "a_not_set = corpus_set.difference(a_set)\n",
        "\n",
        "assert set(a_not_query) == a_not_set"
      ],
      "execution_count": 37,
      "outputs": []
    },
    {
      "cell_type": "code",
      "metadata": {
        "id": "2swuAGFm4UOT"
      },
      "source": [
        "lm_not_query = not_query(ir, \"love mother\", noprint=True)"
      ],
      "execution_count": 38,
      "outputs": []
    },
    {
      "cell_type": "code",
      "metadata": {
        "id": "wUbAlgOTYWDc"
      },
      "source": [
        "love_set = set(love_query)\n",
        "mother_query = and_query(ir, \"mother\")\n",
        "mother_set = set(mother_query)\n",
        "lm_set = love_set.union(mother_set)\n",
        "lm_not_set = corpus_set.difference(lm_set)\n",
        "\n",
        "assert set(lm_not_query) == lm_not_set"
      ],
      "execution_count": 39,
      "outputs": []
    },
    {
      "cell_type": "code",
      "metadata": {
        "id": "SVKdhWepxPAr"
      },
      "source": [
        "yg_not_query = not_query(ir, \"yoda Gandalf\", noprint=True)"
      ],
      "execution_count": 40,
      "outputs": []
    },
    {
      "cell_type": "code",
      "metadata": {
        "id": "y_RQIFpdxRIs"
      },
      "source": [
        "yg_set = yoda_set.union(gandalf_set)\n",
        "yg_not_set = corpus_set.difference(yg_set)\n",
        "\n",
        "assert set(yg_not_query) == yg_not_set"
      ],
      "execution_count": 41,
      "outputs": []
    },
    {
      "cell_type": "markdown",
      "metadata": {
        "id": "pkXx1W2tX037"
      },
      "source": [
        "### Compex queries"
      ]
    },
    {
      "cell_type": "code",
      "metadata": {
        "colab": {
          "base_uri": "https://localhost:8080/"
        },
        "id": "zAKDAvDKCP_H",
        "outputId": "40cf82c5-c412-4702-e396-15018e71e7a5"
      },
      "source": [
        "yoda_complex_query = query(ir, \"yoda\", noprint=False)"
      ],
      "execution_count": 42,
      "outputs": [
        {
          "output_type": "stream",
          "text": [
            "You cannot use one single word! Use at least two words connected with a logical operator.\n"
          ],
          "name": "stdout"
        }
      ]
    },
    {
      "cell_type": "code",
      "metadata": {
        "id": "21oBBs-O3gSu",
        "colab": {
          "base_uri": "https://localhost:8080/"
        },
        "outputId": "bc944590-74a4-4eed-b2c4-3e4eef296d46"
      },
      "source": [
        "yAdOg_query = query(ir, \"yoda AND darth OR Gandalf\", noprint=False)"
      ],
      "execution_count": 43,
      "outputs": [
        {
          "output_type": "stream",
          "text": [
            "Star Wars Episode V: The Empire Strikes Back\n",
            "Imaginationland Episode II\n",
            "Star Wars Episode II: Attack of the Clones\n",
            "George Lucas in Love\n",
            "The Lord of the Rings: The Fellowship of the Ring\n",
            "The Lord of the Rings\n",
            "Something, Something, Something Dark Side\n",
            "The Hunt for Gollum\n",
            "The Return of the King\n",
            "Return of the Ewok\n",
            "Star Wars Episode III: Revenge of the Sith\n",
            "Star Wars Episode VI: Return of the Jedi\n",
            "Date Movie\n",
            "Lego Star Wars: The Quest for R2-D2\n",
            "The Lord of the Rings: The Two Towers\n",
            "It's a Trap!\n",
            "The Lord of the Rings: The Return of the King\n",
            "LEGO Star Wars: Revenge of the Brick\n"
          ],
          "name": "stdout"
        }
      ]
    },
    {
      "cell_type": "code",
      "metadata": {
        "id": "QmEhcAFy2G2E"
      },
      "source": [
        "yd_and_set = yoda_set.intersection(darth_set)\n",
        "yAdOg_set = yd_and_set.union(gandalf_set)\n",
        "\n",
        "assert set(yAdOg_query) == yAdOg_set"
      ],
      "execution_count": 44,
      "outputs": []
    },
    {
      "cell_type": "code",
      "metadata": {
        "id": "8-x1O0vuYuXB"
      },
      "source": [
        "yOdAg_query = query(ir, \"yoda OR darth AND Gandalf\", noprint=False)"
      ],
      "execution_count": 45,
      "outputs": []
    },
    {
      "cell_type": "code",
      "metadata": {
        "id": "tuT4Y8I-Y1jT"
      },
      "source": [
        "yd_or_set = yoda_set.union(darth_set)\n",
        "yOdAg_set = yd_or_set.intersection(gandalf_set)\n",
        "\n",
        "assert set(yOdAg_query) == yOdAg_set"
      ],
      "execution_count": 46,
      "outputs": []
    },
    {
      "cell_type": "code",
      "metadata": {
        "id": "X9DHlAUpazQC",
        "colab": {
          "base_uri": "https://localhost:8080/"
        },
        "outputId": "3bfa5254-6339-4cde-8af4-8af9015756d0"
      },
      "source": [
        "yOdOgAl_query = query(ir, \"yoda OR darth OR Gandalf AND love\", noprint=False)"
      ],
      "execution_count": 47,
      "outputs": [
        {
          "output_type": "stream",
          "text": [
            "Star Wars Episode V: The Empire Strikes Back\n",
            "Star Wars Episode II: Attack of the Clones\n",
            "Wishology\n",
            "Something, Something, Something Dark Side\n",
            "Date Movie\n",
            "Lego Star Wars: The Quest for R2-D2\n",
            "The Lord of the Rings: The Two Towers\n",
            "The Lord of the Rings: The Return of the King\n"
          ],
          "name": "stdout"
        }
      ]
    },
    {
      "cell_type": "code",
      "metadata": {
        "id": "2I6hwNlYbCsF"
      },
      "source": [
        "ydg_and_set = yoda_set.union(darth_set).union(gandalf_set)\n",
        "yOdOgAl_set = ydg_and_set.intersection(love_set)\n",
        "\n",
        "assert set(yOdOgAl_query) == yOdOgAl_set"
      ],
      "execution_count": 48,
      "outputs": []
    },
    {
      "cell_type": "code",
      "metadata": {
        "id": "Pm1eBPk65RT9",
        "colab": {
          "base_uri": "https://localhost:8080/"
        },
        "outputId": "671740c3-14e7-4252-81e7-f0f850cbf6ab"
      },
      "source": [
        "yAdOgNl_query = query(ir, \"yoda AND darth OR Gandalf NOT love\", noprint=False)"
      ],
      "execution_count": 49,
      "outputs": [
        {
          "output_type": "stream",
          "text": [
            "Imaginationland Episode II\n",
            "George Lucas in Love\n",
            "The Lord of the Rings: The Fellowship of the Ring\n",
            "The Lord of the Rings\n",
            "The Hunt for Gollum\n",
            "The Return of the King\n",
            "Return of the Ewok\n",
            "Star Wars Episode III: Revenge of the Sith\n",
            "Star Wars Episode VI: Return of the Jedi\n",
            "It's a Trap!\n",
            "LEGO Star Wars: Revenge of the Brick\n"
          ],
          "name": "stdout"
        }
      ]
    },
    {
      "cell_type": "code",
      "metadata": {
        "id": "mQZtMLMI5TAs"
      },
      "source": [
        "yAdOgNl_set = yAdOg_set.difference(love_set)\n",
        "\n",
        "assert set(yAdOgNl_query) == yAdOgNl_set"
      ],
      "execution_count": 50,
      "outputs": []
    },
    {
      "cell_type": "code",
      "metadata": {
        "colab": {
          "base_uri": "https://localhost:8080/"
        },
        "id": "QG4t5XVT-_sa",
        "outputId": "7877cbcf-2235-4d0c-bf6e-f7fb69f0e0bc"
      },
      "source": [
        "yNdOg_query = query(ir, \"yoda NOT darth OR Gandalf\", noprint=False)"
      ],
      "execution_count": 51,
      "outputs": [
        {
          "output_type": "stream",
          "text": [
            "Imaginationland Episode II\n",
            "The Lord of the Rings: The Fellowship of the Ring\n",
            "The Lord of the Rings\n",
            "The Hunt for Gollum\n",
            "The Return of the King\n",
            "Aliens in the Wild, Wild West\n",
            "Star Wars: The Clone Wars\n",
            "Date Movie\n",
            "Gulliver's Travels\n",
            "The Lord of the Rings: The Two Towers\n",
            "The Lord of the Rings: The Return of the King\n"
          ],
          "name": "stdout"
        }
      ]
    },
    {
      "cell_type": "code",
      "metadata": {
        "id": "LwC9LxN-_Kxq"
      },
      "source": [
        "yNd_set = yoda_set.difference(darth_set)\n",
        "yNdOg_set = yNd_set.union(gandalf_set)\n",
        "\n",
        "assert set(yNdOg_query) == yNdOg_set"
      ],
      "execution_count": 52,
      "outputs": []
    },
    {
      "cell_type": "markdown",
      "metadata": {
        "id": "ixxPBxsQ1XYw"
      },
      "source": [
        "#### Using parenthesis"
      ]
    },
    {
      "cell_type": "code",
      "metadata": {
        "colab": {
          "base_uri": "https://localhost:8080/"
        },
        "id": "x5ZLonY0CWkd",
        "outputId": "f8dda165-767e-480b-ebfc-8f2c6ed6692a"
      },
      "source": [
        "try:\n",
        "  yoda_par_complex_query = query(ir, \"(yoda)\", noprint=False)\n",
        "except:\n",
        "  print(\"ERROR!!!!!!\")"
      ],
      "execution_count": 53,
      "outputs": [
        {
          "output_type": "stream",
          "text": [
            "ERROR!!!!!!\n"
          ],
          "name": "stdout"
        }
      ]
    },
    {
      "cell_type": "code",
      "metadata": {
        "colab": {
          "base_uri": "https://localhost:8080/"
        },
        "id": "7mmsBtidP3Bi",
        "outputId": "c7a61e1c-0a70-4008-98c5-8845c4fdeaa9"
      },
      "source": [
        "try:\n",
        "  yoda_par_complex_query = query(ir, \"(yoda AND Gandafl OR (darth OR love))\", noprint=False)\n",
        "except:\n",
        "  print(\"ERROR!!!!!!\")"
      ],
      "execution_count": 54,
      "outputs": [
        {
          "output_type": "stream",
          "text": [
            "ERROR!!!!!!\n"
          ],
          "name": "stdout"
        }
      ]
    },
    {
      "cell_type": "code",
      "metadata": {
        "id": "2mKg98aJX0F2"
      },
      "source": [
        "#query(ir, \"(yoda AND darth) OR Gandalf NOT love\", noprint=False)"
      ],
      "execution_count": 55,
      "outputs": []
    }
  ]
}